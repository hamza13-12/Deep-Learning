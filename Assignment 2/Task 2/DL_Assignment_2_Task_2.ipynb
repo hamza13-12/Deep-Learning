{
  "nbformat": 4,
  "nbformat_minor": 0,
  "metadata": {
    "colab": {
      "provenance": [],
      "gpuType": "T4"
    },
    "kernelspec": {
      "name": "python3",
      "display_name": "Python 3"
    },
    "language_info": {
      "name": "python"
    },
    "accelerator": "GPU"
  },
  "cells": [
    {
      "cell_type": "code",
      "execution_count": 1,
      "metadata": {
        "id": "WQ6QEQp518qQ"
      },
      "outputs": [],
      "source": [
        "import librosa\n",
        "import numpy as np\n",
        "import os\n",
        "import tensorflow as tf\n",
        "from tensorflow.keras.layers import Input, Dense\n",
        "from tensorflow.keras.models import Model\n",
        "import pickle\n",
        "from sklearn.model_selection import train_test_split"
      ]
    },
    {
      "cell_type": "code",
      "source": [
        "def extract_mfcc(filepath, n_mfcc=13, hop_length=512, n_fft=2048):\n",
        "    if filepath.endswith('.wav'):\n",
        "        audio, sr = librosa.load(filepath, sr=None)\n",
        "        mfcc = librosa.feature.mfcc(y=audio, sr=sr, n_mfcc=n_mfcc, hop_length=hop_length, n_fft=n_fft)\n",
        "        features = mfcc.T #Transpose to get the correct shape\n",
        "        average_features = np.mean(features, axis=0)\n",
        "        return average_features"
      ],
      "metadata": {
        "id": "ALhwrhuS_O5x"
      },
      "execution_count": 2,
      "outputs": []
    },
    {
      "cell_type": "code",
      "source": [
        "train_folder_path = '/content/drive/MyDrive/Assignment 2/train'\n",
        "mfcc_features_list = []\n",
        "file_names_list = []\n",
        "\n",
        "for filename in os.listdir(train_folder_path):\n",
        "    filepath = os.path.join(train_folder_path, filename)\n",
        "    if filepath.endswith('.wav'):\n",
        "        mfcc = extract_mfcc(filepath)\n",
        "        if mfcc is not None:\n",
        "            mfcc_features_list.append(mfcc)\n",
        "            file_names_list.append(filename)\n",
        "\n",
        "# Convert the MFCC features list to a NumPy array\n",
        "mfcc_features_array = np.array(mfcc_features_list)"
      ],
      "metadata": {
        "id": "KtUTaOmqAtfW"
      },
      "execution_count": 3,
      "outputs": []
    },
    {
      "cell_type": "code",
      "source": [
        "mfcc_train, mfcc_val, filenames_train, filenames_val = train_test_split(\n",
        "    mfcc_features_array,\n",
        "    file_names_list,\n",
        "    test_size=0.2,\n",
        "    random_state=42\n",
        ")"
      ],
      "metadata": {
        "id": "XFMCvTklOtCm"
      },
      "execution_count": 4,
      "outputs": []
    },
    {
      "cell_type": "code",
      "source": [
        "# Save the filenames list as a pickle file\n",
        "with open('/content/drive/MyDrive/train_filenames.pkl', 'wb') as f:\n",
        "    pickle.dump(file_names_list, f)"
      ],
      "metadata": {
        "id": "nWe2od8oEVT-"
      },
      "execution_count": 5,
      "outputs": []
    },
    {
      "cell_type": "code",
      "source": [
        "print(mfcc_features_array[0])"
      ],
      "metadata": {
        "colab": {
          "base_uri": "https://localhost:8080/"
        },
        "id": "Gdbe7thLIEru",
        "outputId": "eee81c90-a234-41c2-f238-4caac2eef0a1"
      },
      "execution_count": 6,
      "outputs": [
        {
          "output_type": "stream",
          "name": "stdout",
          "text": [
            "[-1.8044212e+02  1.3999611e+02 -8.1985598e+00  3.1531612e+01\n",
            " -4.2815495e+00  2.0610485e+01 -1.0084117e+01  1.3115306e+01\n",
            "  5.2859783e-01  2.1011593e+00  1.3066685e-01  3.4481905e+00\n",
            "  5.4831678e-01]\n"
          ]
        }
      ]
    },
    {
      "cell_type": "code",
      "source": [
        "print(f\"MFCC Features Array Shape: {mfcc_features_array.shape}\")"
      ],
      "metadata": {
        "colab": {
          "base_uri": "https://localhost:8080/"
        },
        "id": "XPaK4oEMEoko",
        "outputId": "7bc3e8ad-d96c-4032-bcc3-0d61c346bbb4"
      },
      "execution_count": 7,
      "outputs": [
        {
          "output_type": "stream",
          "name": "stdout",
          "text": [
            "MFCC Features Array Shape: (220, 13)\n"
          ]
        }
      ]
    },
    {
      "cell_type": "code",
      "source": [
        "input_shape = mfcc_features_array.shape[1]\n",
        "\n",
        "# Encoder\n",
        "inputs = Input(shape=(input_shape))\n",
        "encoded = Dense(128, activation=\"relu\")(inputs)\n",
        "encoded = Dense(64, activation=\"relu\")(encoded)\n",
        "encoded = Dense(32, activation=\"relu\", name=\"encoder_layer\")(encoded)\n",
        "\n",
        "# Decoder\n",
        "decoded = Dense(64, activation=\"relu\")(encoded)\n",
        "decoded = Dense(128, activation=\"relu\")(decoded)\n",
        "decoded = Dense(13)(decoded)\n",
        "\n",
        "autoencoder = Model(inputs, decoded)"
      ],
      "metadata": {
        "id": "_kGyVa18E1wp"
      },
      "execution_count": 8,
      "outputs": []
    },
    {
      "cell_type": "code",
      "source": [
        "# Compile the model\n",
        "autoencoder.compile(optimizer='adam', loss='mse')\n",
        "\n",
        "# Train the model\n",
        "autoencoder.fit(mfcc_train, mfcc_train, epochs=100, batch_size=32, validation_data=(mfcc_val, mfcc_val))"
      ],
      "metadata": {
        "colab": {
          "base_uri": "https://localhost:8080/"
        },
        "id": "H4tqxFSaFuQx",
        "outputId": "3b556800-da4c-40e3-9bda-1abc8ee3404c"
      },
      "execution_count": 9,
      "outputs": [
        {
          "output_type": "stream",
          "name": "stdout",
          "text": [
            "Epoch 1/100\n",
            "6/6 [==============================] - 7s 58ms/step - loss: 5360.7964 - val_loss: 5454.2563\n",
            "Epoch 2/100\n",
            "6/6 [==============================] - 0s 12ms/step - loss: 4039.1040 - val_loss: 3329.0596\n",
            "Epoch 3/100\n",
            "6/6 [==============================] - 0s 10ms/step - loss: 2091.8552 - val_loss: 1194.9911\n",
            "Epoch 4/100\n",
            "6/6 [==============================] - 0s 8ms/step - loss: 1064.3538 - val_loss: 935.5355\n",
            "Epoch 5/100\n",
            "6/6 [==============================] - 0s 8ms/step - loss: 812.5842 - val_loss: 613.2629\n",
            "Epoch 6/100\n",
            "6/6 [==============================] - 0s 9ms/step - loss: 706.9299 - val_loss: 611.8807\n",
            "Epoch 7/100\n",
            "6/6 [==============================] - 0s 8ms/step - loss: 642.0526 - val_loss: 440.3339\n",
            "Epoch 8/100\n",
            "6/6 [==============================] - 0s 11ms/step - loss: 545.2529 - val_loss: 386.0972\n",
            "Epoch 9/100\n",
            "6/6 [==============================] - 0s 8ms/step - loss: 476.2526 - val_loss: 322.6320\n",
            "Epoch 10/100\n",
            "6/6 [==============================] - 0s 9ms/step - loss: 405.7519 - val_loss: 257.3475\n",
            "Epoch 11/100\n",
            "6/6 [==============================] - 0s 11ms/step - loss: 326.3978 - val_loss: 187.2896\n",
            "Epoch 12/100\n",
            "6/6 [==============================] - 0s 8ms/step - loss: 262.3267 - val_loss: 150.3816\n",
            "Epoch 13/100\n",
            "6/6 [==============================] - 0s 8ms/step - loss: 213.6294 - val_loss: 136.3438\n",
            "Epoch 14/100\n",
            "6/6 [==============================] - 0s 8ms/step - loss: 177.9646 - val_loss: 132.5076\n",
            "Epoch 15/100\n",
            "6/6 [==============================] - 0s 8ms/step - loss: 151.0022 - val_loss: 144.5023\n",
            "Epoch 16/100\n",
            "6/6 [==============================] - 0s 8ms/step - loss: 139.3958 - val_loss: 149.7764\n",
            "Epoch 17/100\n",
            "6/6 [==============================] - 0s 8ms/step - loss: 128.4829 - val_loss: 132.5373\n",
            "Epoch 18/100\n",
            "6/6 [==============================] - 0s 8ms/step - loss: 115.8821 - val_loss: 121.0855\n",
            "Epoch 19/100\n",
            "6/6 [==============================] - 0s 8ms/step - loss: 109.1046 - val_loss: 115.6448\n",
            "Epoch 20/100\n",
            "6/6 [==============================] - 0s 8ms/step - loss: 100.6041 - val_loss: 119.1934\n",
            "Epoch 21/100\n",
            "6/6 [==============================] - 0s 8ms/step - loss: 96.2963 - val_loss: 110.2524\n",
            "Epoch 22/100\n",
            "6/6 [==============================] - 0s 10ms/step - loss: 90.8018 - val_loss: 108.5969\n",
            "Epoch 23/100\n",
            "6/6 [==============================] - 0s 8ms/step - loss: 85.2639 - val_loss: 106.0753\n",
            "Epoch 24/100\n",
            "6/6 [==============================] - 0s 8ms/step - loss: 80.0939 - val_loss: 98.2672\n",
            "Epoch 25/100\n",
            "6/6 [==============================] - 0s 8ms/step - loss: 75.6782 - val_loss: 101.9674\n",
            "Epoch 26/100\n",
            "6/6 [==============================] - 0s 9ms/step - loss: 72.0362 - val_loss: 96.8901\n",
            "Epoch 27/100\n",
            "6/6 [==============================] - 0s 8ms/step - loss: 68.0376 - val_loss: 93.6584\n",
            "Epoch 28/100\n",
            "6/6 [==============================] - 0s 11ms/step - loss: 63.9917 - val_loss: 86.7437\n",
            "Epoch 29/100\n",
            "6/6 [==============================] - 0s 10ms/step - loss: 59.5878 - val_loss: 90.4097\n",
            "Epoch 30/100\n",
            "6/6 [==============================] - 0s 12ms/step - loss: 56.8020 - val_loss: 83.4892\n",
            "Epoch 31/100\n",
            "6/6 [==============================] - 0s 8ms/step - loss: 53.4893 - val_loss: 79.2911\n",
            "Epoch 32/100\n",
            "6/6 [==============================] - 0s 8ms/step - loss: 51.6164 - val_loss: 76.7663\n",
            "Epoch 33/100\n",
            "6/6 [==============================] - 0s 8ms/step - loss: 49.7552 - val_loss: 75.3553\n",
            "Epoch 34/100\n",
            "6/6 [==============================] - 0s 8ms/step - loss: 48.2324 - val_loss: 73.9732\n",
            "Epoch 35/100\n",
            "6/6 [==============================] - 0s 8ms/step - loss: 48.0293 - val_loss: 72.0887\n",
            "Epoch 36/100\n",
            "6/6 [==============================] - 0s 8ms/step - loss: 47.6189 - val_loss: 73.6717\n",
            "Epoch 37/100\n",
            "6/6 [==============================] - 0s 8ms/step - loss: 46.6363 - val_loss: 67.8927\n",
            "Epoch 38/100\n",
            "6/6 [==============================] - 0s 8ms/step - loss: 45.0743 - val_loss: 70.6963\n",
            "Epoch 39/100\n",
            "6/6 [==============================] - 0s 11ms/step - loss: 43.9414 - val_loss: 64.7007\n",
            "Epoch 40/100\n",
            "6/6 [==============================] - 0s 10ms/step - loss: 42.5303 - val_loss: 62.4793\n",
            "Epoch 41/100\n",
            "6/6 [==============================] - 0s 8ms/step - loss: 41.2028 - val_loss: 62.6927\n",
            "Epoch 42/100\n",
            "6/6 [==============================] - 0s 8ms/step - loss: 40.6277 - val_loss: 56.9369\n",
            "Epoch 43/100\n",
            "6/6 [==============================] - 0s 8ms/step - loss: 39.1060 - val_loss: 58.9333\n",
            "Epoch 44/100\n",
            "6/6 [==============================] - 0s 8ms/step - loss: 38.2424 - val_loss: 53.7503\n",
            "Epoch 45/100\n",
            "6/6 [==============================] - 0s 8ms/step - loss: 37.1551 - val_loss: 52.9387\n",
            "Epoch 46/100\n",
            "6/6 [==============================] - 0s 8ms/step - loss: 36.5753 - val_loss: 49.4193\n",
            "Epoch 47/100\n",
            "6/6 [==============================] - 0s 8ms/step - loss: 35.3523 - val_loss: 50.0407\n",
            "Epoch 48/100\n",
            "6/6 [==============================] - 0s 8ms/step - loss: 34.0312 - val_loss: 46.8723\n",
            "Epoch 49/100\n",
            "6/6 [==============================] - 0s 8ms/step - loss: 33.1081 - val_loss: 44.8412\n",
            "Epoch 50/100\n",
            "6/6 [==============================] - 0s 8ms/step - loss: 32.0003 - val_loss: 45.8190\n",
            "Epoch 51/100\n",
            "6/6 [==============================] - 0s 11ms/step - loss: 31.3680 - val_loss: 41.1470\n",
            "Epoch 52/100\n",
            "6/6 [==============================] - 0s 8ms/step - loss: 31.5547 - val_loss: 40.0163\n",
            "Epoch 53/100\n",
            "6/6 [==============================] - 0s 8ms/step - loss: 31.5187 - val_loss: 43.9220\n",
            "Epoch 54/100\n",
            "6/6 [==============================] - 0s 8ms/step - loss: 30.2197 - val_loss: 37.6696\n",
            "Epoch 55/100\n",
            "6/6 [==============================] - 0s 12ms/step - loss: 29.1786 - val_loss: 40.5894\n",
            "Epoch 56/100\n",
            "6/6 [==============================] - 0s 8ms/step - loss: 28.9846 - val_loss: 37.6615\n",
            "Epoch 57/100\n",
            "6/6 [==============================] - 0s 8ms/step - loss: 27.9054 - val_loss: 37.2152\n",
            "Epoch 58/100\n",
            "6/6 [==============================] - 0s 8ms/step - loss: 27.3536 - val_loss: 36.8807\n",
            "Epoch 59/100\n",
            "6/6 [==============================] - 0s 13ms/step - loss: 26.6503 - val_loss: 34.8392\n",
            "Epoch 60/100\n",
            "6/6 [==============================] - 0s 8ms/step - loss: 26.3419 - val_loss: 35.8000\n",
            "Epoch 61/100\n",
            "6/6 [==============================] - 0s 8ms/step - loss: 25.6941 - val_loss: 34.6443\n",
            "Epoch 62/100\n",
            "6/6 [==============================] - 0s 8ms/step - loss: 25.5678 - val_loss: 34.1625\n",
            "Epoch 63/100\n",
            "6/6 [==============================] - 0s 8ms/step - loss: 24.7924 - val_loss: 33.0430\n",
            "Epoch 64/100\n",
            "6/6 [==============================] - 0s 8ms/step - loss: 24.5986 - val_loss: 32.8573\n",
            "Epoch 65/100\n",
            "6/6 [==============================] - 0s 8ms/step - loss: 23.6044 - val_loss: 33.2354\n",
            "Epoch 66/100\n",
            "6/6 [==============================] - 0s 10ms/step - loss: 23.3031 - val_loss: 30.8880\n",
            "Epoch 67/100\n",
            "6/6 [==============================] - 0s 8ms/step - loss: 22.6582 - val_loss: 31.8176\n",
            "Epoch 68/100\n",
            "6/6 [==============================] - 0s 11ms/step - loss: 22.6897 - val_loss: 31.8341\n",
            "Epoch 69/100\n",
            "6/6 [==============================] - 0s 9ms/step - loss: 22.1621 - val_loss: 29.4859\n",
            "Epoch 70/100\n",
            "6/6 [==============================] - 0s 9ms/step - loss: 21.5629 - val_loss: 30.0039\n",
            "Epoch 71/100\n",
            "6/6 [==============================] - 0s 9ms/step - loss: 20.8833 - val_loss: 28.5180\n",
            "Epoch 72/100\n",
            "6/6 [==============================] - 0s 9ms/step - loss: 20.3811 - val_loss: 29.1985\n",
            "Epoch 73/100\n",
            "6/6 [==============================] - 0s 8ms/step - loss: 20.0998 - val_loss: 27.7838\n",
            "Epoch 74/100\n",
            "6/6 [==============================] - 0s 8ms/step - loss: 19.8041 - val_loss: 27.6569\n",
            "Epoch 75/100\n",
            "6/6 [==============================] - 0s 8ms/step - loss: 19.2925 - val_loss: 27.3733\n",
            "Epoch 76/100\n",
            "6/6 [==============================] - 0s 8ms/step - loss: 18.9520 - val_loss: 26.9071\n",
            "Epoch 77/100\n",
            "6/6 [==============================] - 0s 8ms/step - loss: 18.5530 - val_loss: 26.4561\n",
            "Epoch 78/100\n",
            "6/6 [==============================] - 0s 9ms/step - loss: 18.3401 - val_loss: 26.5788\n",
            "Epoch 79/100\n",
            "6/6 [==============================] - 0s 8ms/step - loss: 18.3551 - val_loss: 25.5462\n",
            "Epoch 80/100\n",
            "6/6 [==============================] - 0s 8ms/step - loss: 18.0733 - val_loss: 26.1528\n",
            "Epoch 81/100\n",
            "6/6 [==============================] - 0s 8ms/step - loss: 17.8256 - val_loss: 25.8533\n",
            "Epoch 82/100\n",
            "6/6 [==============================] - 0s 8ms/step - loss: 17.9612 - val_loss: 25.8569\n",
            "Epoch 83/100\n",
            "6/6 [==============================] - 0s 8ms/step - loss: 17.6127 - val_loss: 24.3552\n",
            "Epoch 84/100\n",
            "6/6 [==============================] - 0s 8ms/step - loss: 17.1088 - val_loss: 25.7272\n",
            "Epoch 85/100\n",
            "6/6 [==============================] - 0s 8ms/step - loss: 17.2102 - val_loss: 23.6703\n",
            "Epoch 86/100\n",
            "6/6 [==============================] - 0s 8ms/step - loss: 16.6645 - val_loss: 25.2968\n",
            "Epoch 87/100\n",
            "6/6 [==============================] - 0s 8ms/step - loss: 16.7988 - val_loss: 23.6698\n",
            "Epoch 88/100\n",
            "6/6 [==============================] - 0s 8ms/step - loss: 16.6794 - val_loss: 24.4168\n",
            "Epoch 89/100\n",
            "6/6 [==============================] - 0s 8ms/step - loss: 16.2530 - val_loss: 23.4268\n",
            "Epoch 90/100\n",
            "6/6 [==============================] - 0s 8ms/step - loss: 16.1801 - val_loss: 22.8600\n",
            "Epoch 91/100\n",
            "6/6 [==============================] - 0s 8ms/step - loss: 15.7803 - val_loss: 23.2182\n",
            "Epoch 92/100\n",
            "6/6 [==============================] - 0s 8ms/step - loss: 15.8617 - val_loss: 22.8073\n",
            "Epoch 93/100\n",
            "6/6 [==============================] - 0s 8ms/step - loss: 15.7983 - val_loss: 22.9763\n",
            "Epoch 94/100\n",
            "6/6 [==============================] - 0s 8ms/step - loss: 15.5549 - val_loss: 22.1343\n",
            "Epoch 95/100\n",
            "6/6 [==============================] - 0s 8ms/step - loss: 15.8090 - val_loss: 23.5891\n",
            "Epoch 96/100\n",
            "6/6 [==============================] - 0s 8ms/step - loss: 15.5359 - val_loss: 21.5773\n",
            "Epoch 97/100\n",
            "6/6 [==============================] - 0s 8ms/step - loss: 15.3473 - val_loss: 22.6623\n",
            "Epoch 98/100\n",
            "6/6 [==============================] - 0s 10ms/step - loss: 15.0865 - val_loss: 21.2035\n",
            "Epoch 99/100\n",
            "6/6 [==============================] - 0s 11ms/step - loss: 14.3475 - val_loss: 22.0381\n",
            "Epoch 100/100\n",
            "6/6 [==============================] - 0s 8ms/step - loss: 14.4896 - val_loss: 20.9758\n"
          ]
        },
        {
          "output_type": "execute_result",
          "data": {
            "text/plain": [
              "<keras.src.callbacks.History at 0x7ff5606d8e80>"
            ]
          },
          "metadata": {},
          "execution_count": 9
        }
      ]
    },
    {
      "cell_type": "code",
      "source": [
        "# Extract the encoder part of the model\n",
        "encoder = Model(inputs=autoencoder.input, outputs=autoencoder.get_layer('encoder_layer').output)\n",
        "\n",
        "# Encode all training audios to latent representations\n",
        "latent_representations = encoder.predict(mfcc_features_array)"
      ],
      "metadata": {
        "colab": {
          "base_uri": "https://localhost:8080/"
        },
        "id": "oWabrHvIV_Ul",
        "outputId": "cfab42d9-cb64-4ce9-adec-7a365157733f"
      },
      "execution_count": 10,
      "outputs": [
        {
          "output_type": "stream",
          "name": "stdout",
          "text": [
            "7/7 [==============================] - 0s 2ms/step\n"
          ]
        }
      ]
    },
    {
      "cell_type": "code",
      "source": [
        "# Save the latent representations (LRDB) as a pickle file\n",
        "with open('/content/drive/MyDrive/LRDB.pkl', 'wb') as f:\n",
        "    pickle.dump(latent_representations, f)"
      ],
      "metadata": {
        "id": "6BShrE249W9X"
      },
      "execution_count": 11,
      "outputs": []
    },
    {
      "cell_type": "code",
      "source": [
        "encoder.save('/content/drive/MyDrive/encoder_model.keras')"
      ],
      "metadata": {
        "id": "7QTi82Vq914-"
      },
      "execution_count": 12,
      "outputs": []
    },
    {
      "cell_type": "code",
      "source": [],
      "metadata": {
        "id": "gV-QL6kU_cbs"
      },
      "execution_count": 12,
      "outputs": []
    }
  ]
}